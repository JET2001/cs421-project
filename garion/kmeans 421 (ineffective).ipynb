{
 "cells": [
  {
   "cell_type": "code",
   "execution_count": 24,
   "id": "5719bd5e-27c1-446f-891b-de8e338986d3",
   "metadata": {},
   "outputs": [],
   "source": [
    "# Importing Libraries\n",
    "import numpy as np\n",
    "import pandas as pd\n",
    "import sklearn\n",
    "import matplotlib.pyplot as plt\n",
    "import seaborn as sns\n",
    "sns.set()\n",
    "import warnings\n",
    "warnings.simplefilter(action='ignore', category=FutureWarning)"
   ]
  },
  {
   "cell_type": "code",
   "execution_count": 26,
   "id": "15555bad-b70f-46d1-9e3a-20da49bb6eb4",
   "metadata": {},
   "outputs": [],
   "source": [
    "data=np.load(\"fourth_batch_multi_labels.npz\")"
   ]
  },
  {
   "cell_type": "code",
   "execution_count": 28,
   "id": "5661decd-0243-45eb-9001-2ce3db64dfa1",
   "metadata": {},
   "outputs": [],
   "source": [
    "X=data[\"X\"]\n",
    "y=data[\"yy\"]\n",
    "\n",
    "\n",
    "\n",
    "XX=pd.DataFrame(X)\n",
    "yy=pd.DataFrame(y)\n",
    "XX.rename(columns={0:\"user\",1:\"item\",2:\"rating\"},inplace=True)\n",
    "yy.rename(columns={0:\"user\",1:\"label\"},inplace=True)"
   ]
  },
  {
   "cell_type": "code",
   "execution_count": 30,
   "id": "25e24d24-ab02-4833-98b4-a12b7696adec",
   "metadata": {},
   "outputs": [
    {
     "data": {
      "text/html": [
       "<div>\n",
       "<style scoped>\n",
       "    .dataframe tbody tr th:only-of-type {\n",
       "        vertical-align: middle;\n",
       "    }\n",
       "\n",
       "    .dataframe tbody tr th {\n",
       "        vertical-align: top;\n",
       "    }\n",
       "\n",
       "    .dataframe thead th {\n",
       "        text-align: right;\n",
       "    }\n",
       "</style>\n",
       "<table border=\"1\" class=\"dataframe\">\n",
       "  <thead>\n",
       "    <tr style=\"text-align: right;\">\n",
       "      <th></th>\n",
       "      <th>user</th>\n",
       "      <th>item</th>\n",
       "      <th>rating</th>\n",
       "    </tr>\n",
       "  </thead>\n",
       "  <tbody>\n",
       "    <tr>\n",
       "      <th>0</th>\n",
       "      <td>3531</td>\n",
       "      <td>0</td>\n",
       "      <td>1</td>\n",
       "    </tr>\n",
       "    <tr>\n",
       "      <th>1</th>\n",
       "      <td>3531</td>\n",
       "      <td>1</td>\n",
       "      <td>1</td>\n",
       "    </tr>\n",
       "    <tr>\n",
       "      <th>2</th>\n",
       "      <td>3531</td>\n",
       "      <td>6</td>\n",
       "      <td>1</td>\n",
       "    </tr>\n",
       "    <tr>\n",
       "      <th>3</th>\n",
       "      <td>3531</td>\n",
       "      <td>7</td>\n",
       "      <td>10</td>\n",
       "    </tr>\n",
       "    <tr>\n",
       "      <th>4</th>\n",
       "      <td>3531</td>\n",
       "      <td>9</td>\n",
       "      <td>10</td>\n",
       "    </tr>\n",
       "  </tbody>\n",
       "</table>\n",
       "</div>"
      ],
      "text/plain": [
       "   user  item  rating\n",
       "0  3531     0       1\n",
       "1  3531     1       1\n",
       "2  3531     6       1\n",
       "3  3531     7      10\n",
       "4  3531     9      10"
      ]
     },
     "execution_count": 30,
     "metadata": {},
     "output_type": "execute_result"
    }
   ],
   "source": [
    "XX.head()"
   ]
  },
  {
   "cell_type": "code",
   "execution_count": 32,
   "id": "8f3a6218-9289-4e77-b715-19de750372f5",
   "metadata": {},
   "outputs": [
    {
     "data": {
      "text/html": [
       "<div>\n",
       "<style scoped>\n",
       "    .dataframe tbody tr th:only-of-type {\n",
       "        vertical-align: middle;\n",
       "    }\n",
       "\n",
       "    .dataframe tbody tr th {\n",
       "        vertical-align: top;\n",
       "    }\n",
       "\n",
       "    .dataframe thead th {\n",
       "        text-align: right;\n",
       "    }\n",
       "</style>\n",
       "<table border=\"1\" class=\"dataframe\">\n",
       "  <thead>\n",
       "    <tr style=\"text-align: right;\">\n",
       "      <th></th>\n",
       "      <th>user</th>\n",
       "      <th>label</th>\n",
       "    </tr>\n",
       "  </thead>\n",
       "  <tbody>\n",
       "    <tr>\n",
       "      <th>0</th>\n",
       "      <td>3240</td>\n",
       "      <td>0</td>\n",
       "    </tr>\n",
       "    <tr>\n",
       "      <th>1</th>\n",
       "      <td>3241</td>\n",
       "      <td>1</td>\n",
       "    </tr>\n",
       "    <tr>\n",
       "      <th>2</th>\n",
       "      <td>3242</td>\n",
       "      <td>0</td>\n",
       "    </tr>\n",
       "    <tr>\n",
       "      <th>3</th>\n",
       "      <td>3243</td>\n",
       "      <td>2</td>\n",
       "    </tr>\n",
       "    <tr>\n",
       "      <th>4</th>\n",
       "      <td>3244</td>\n",
       "      <td>0</td>\n",
       "    </tr>\n",
       "  </tbody>\n",
       "</table>\n",
       "</div>"
      ],
      "text/plain": [
       "   user  label\n",
       "0  3240      0\n",
       "1  3241      1\n",
       "2  3242      0\n",
       "3  3243      2\n",
       "4  3244      0"
      ]
     },
     "execution_count": 32,
     "metadata": {},
     "output_type": "execute_result"
    }
   ],
   "source": [
    "yy.head()"
   ]
  },
  {
   "cell_type": "code",
   "execution_count": 149,
   "id": "0a3961d5-314a-4d2f-aa5f-1b4d0976beca",
   "metadata": {},
   "outputs": [
    {
     "data": {
      "text/html": [
       "<div>\n",
       "<style scoped>\n",
       "    .dataframe tbody tr th:only-of-type {\n",
       "        vertical-align: middle;\n",
       "    }\n",
       "\n",
       "    .dataframe tbody tr th {\n",
       "        vertical-align: top;\n",
       "    }\n",
       "\n",
       "    .dataframe thead th {\n",
       "        text-align: right;\n",
       "    }\n",
       "</style>\n",
       "<table border=\"1\" class=\"dataframe\">\n",
       "  <thead>\n",
       "    <tr style=\"text-align: right;\">\n",
       "      <th></th>\n",
       "      <th>user</th>\n",
       "      <th>item</th>\n",
       "      <th>rating</th>\n",
       "      <th>label</th>\n",
       "    </tr>\n",
       "  </thead>\n",
       "  <tbody>\n",
       "    <tr>\n",
       "      <th>0</th>\n",
       "      <td>3531</td>\n",
       "      <td>0</td>\n",
       "      <td>1</td>\n",
       "      <td>0</td>\n",
       "    </tr>\n",
       "    <tr>\n",
       "      <th>1</th>\n",
       "      <td>3531</td>\n",
       "      <td>1</td>\n",
       "      <td>1</td>\n",
       "      <td>0</td>\n",
       "    </tr>\n",
       "    <tr>\n",
       "      <th>2</th>\n",
       "      <td>3531</td>\n",
       "      <td>6</td>\n",
       "      <td>1</td>\n",
       "      <td>0</td>\n",
       "    </tr>\n",
       "    <tr>\n",
       "      <th>3</th>\n",
       "      <td>3531</td>\n",
       "      <td>7</td>\n",
       "      <td>10</td>\n",
       "      <td>0</td>\n",
       "    </tr>\n",
       "    <tr>\n",
       "      <th>4</th>\n",
       "      <td>3531</td>\n",
       "      <td>9</td>\n",
       "      <td>10</td>\n",
       "      <td>0</td>\n",
       "    </tr>\n",
       "  </tbody>\n",
       "</table>\n",
       "</div>"
      ],
      "text/plain": [
       "   user  item  rating  label\n",
       "0  3531     0       1      0\n",
       "1  3531     1       1      0\n",
       "2  3531     6       1      0\n",
       "3  3531     7      10      0\n",
       "4  3531     9      10      0"
      ]
     },
     "execution_count": 149,
     "metadata": {},
     "output_type": "execute_result"
    }
   ],
   "source": [
    "merged_df = pd.merge(XX, yy, on='user')\n",
    "merged_df.head()"
   ]
  },
  {
   "cell_type": "code",
   "execution_count": 151,
   "id": "f67da299-b8d5-4a7d-a984-29001242ae50",
   "metadata": {},
   "outputs": [
    {
     "data": {
      "text/html": [
       "<div>\n",
       "<style scoped>\n",
       "    .dataframe tbody tr th:only-of-type {\n",
       "        vertical-align: middle;\n",
       "    }\n",
       "\n",
       "    .dataframe tbody tr th {\n",
       "        vertical-align: top;\n",
       "    }\n",
       "\n",
       "    .dataframe thead th {\n",
       "        text-align: right;\n",
       "    }\n",
       "</style>\n",
       "<table border=\"1\" class=\"dataframe\">\n",
       "  <thead>\n",
       "    <tr style=\"text-align: right;\">\n",
       "      <th></th>\n",
       "      <th>mean_rating</th>\n",
       "      <th>std_rating</th>\n",
       "      <th>total_rating</th>\n",
       "      <th>count_dislike</th>\n",
       "      <th>count_neutral</th>\n",
       "      <th>count_like</th>\n",
       "      <th>count_watched</th>\n",
       "      <th>total_interactions</th>\n",
       "    </tr>\n",
       "    <tr>\n",
       "      <th>user</th>\n",
       "      <th></th>\n",
       "      <th></th>\n",
       "      <th></th>\n",
       "      <th></th>\n",
       "      <th></th>\n",
       "      <th></th>\n",
       "      <th></th>\n",
       "      <th></th>\n",
       "    </tr>\n",
       "  </thead>\n",
       "  <tbody>\n",
       "    <tr>\n",
       "      <th>3240</th>\n",
       "      <td>0.433962</td>\n",
       "      <td>6.371878</td>\n",
       "      <td>184</td>\n",
       "      <td>84</td>\n",
       "      <td>99</td>\n",
       "      <td>87</td>\n",
       "      <td>154</td>\n",
       "      <td>424</td>\n",
       "    </tr>\n",
       "    <tr>\n",
       "      <th>3241</th>\n",
       "      <td>-1.136691</td>\n",
       "      <td>7.153798</td>\n",
       "      <td>-158</td>\n",
       "      <td>46</td>\n",
       "      <td>25</td>\n",
       "      <td>26</td>\n",
       "      <td>42</td>\n",
       "      <td>139</td>\n",
       "    </tr>\n",
       "    <tr>\n",
       "      <th>3242</th>\n",
       "      <td>-0.747368</td>\n",
       "      <td>6.804867</td>\n",
       "      <td>-142</td>\n",
       "      <td>54</td>\n",
       "      <td>44</td>\n",
       "      <td>34</td>\n",
       "      <td>58</td>\n",
       "      <td>190</td>\n",
       "    </tr>\n",
       "    <tr>\n",
       "      <th>3243</th>\n",
       "      <td>1.860759</td>\n",
       "      <td>7.297232</td>\n",
       "      <td>147</td>\n",
       "      <td>16</td>\n",
       "      <td>8</td>\n",
       "      <td>28</td>\n",
       "      <td>27</td>\n",
       "      <td>79</td>\n",
       "    </tr>\n",
       "    <tr>\n",
       "      <th>3244</th>\n",
       "      <td>4.600000</td>\n",
       "      <td>4.760129</td>\n",
       "      <td>161</td>\n",
       "      <td>0</td>\n",
       "      <td>9</td>\n",
       "      <td>15</td>\n",
       "      <td>11</td>\n",
       "      <td>35</td>\n",
       "    </tr>\n",
       "  </tbody>\n",
       "</table>\n",
       "</div>"
      ],
      "text/plain": [
       "      mean_rating  std_rating  total_rating  count_dislike  count_neutral  \\\n",
       "user                                                                        \n",
       "3240     0.433962    6.371878           184             84             99   \n",
       "3241    -1.136691    7.153798          -158             46             25   \n",
       "3242    -0.747368    6.804867          -142             54             44   \n",
       "3243     1.860759    7.297232           147             16              8   \n",
       "3244     4.600000    4.760129           161              0              9   \n",
       "\n",
       "      count_like  count_watched  total_interactions  \n",
       "user                                                 \n",
       "3240          87            154                 424  \n",
       "3241          26             42                 139  \n",
       "3242          34             58                 190  \n",
       "3243          28             27                  79  \n",
       "3244          15             11                  35  "
      ]
     },
     "execution_count": 151,
     "metadata": {},
     "output_type": "execute_result"
    }
   ],
   "source": [
    "from sklearn.model_selection import GridSearchCV\n",
    "from scipy.stats import skew, kurtosis\n",
    "# Basic user features\n",
    "df_user_features = XX.groupby('user').agg(\n",
    "    mean_rating=('rating', 'mean'),\n",
    "    #median_rating=('rating', 'median'),\n",
    "    std_rating=('rating', 'std'),\n",
    "    #this was the only thing i added, it was based off one of the features i added on my original one that made significant impact\n",
    "    total_rating=('rating','sum'),\n",
    "        \n",
    "    count_dislike=('rating', lambda x: (x == -10).sum()),\n",
    "    count_neutral=('rating', lambda x: (x == 0).sum()),\n",
    "    count_like=('rating', lambda x: (x == 10).sum()),\n",
    "    count_watched=('rating', lambda x: (x == 1).sum()),\n",
    "    total_interactions=('rating', 'count')\n",
    ")\n",
    "\n",
    "# Ratio features\n",
    "#df_user_features['like_ratio'] = df_user_features['count_like'] / df_user_features['total_interactions']\n",
    "#df_user_features['dislike_ratio'] = df_user_features['count_dislike'] / df_user_features['total_interactions']\n",
    "#df_user_features['neutral_ratio'] = df_user_features['count_neutral'] / df_user_features['total_interactions']\n",
    "#df_user_features['watched_ratio'] = df_user_features['count_watched'] / df_user_features['total_interactions']\n",
    "df_user_features.head()"
   ]
  },
  {
   "cell_type": "code",
   "execution_count": 152,
   "id": "8fcc16b3-9d7f-449c-9a73-72a076e7a8f9",
   "metadata": {},
   "outputs": [],
   "source": [
    "from sklearn.cluster import KMeans"
   ]
  },
  {
   "cell_type": "code",
   "execution_count": 155,
   "id": "e284409b-7ec2-43d7-a00e-1fe3fadb4d18",
   "metadata": {},
   "outputs": [
    {
     "name": "stderr",
     "output_type": "stream",
     "text": [
      "C:\\Users\\Garion\\anaconda3\\Lib\\site-packages\\sklearn\\cluster\\_kmeans.py:1382: UserWarning: KMeans is known to have a memory leak on Windows with MKL, when there are less chunks than available threads. You can avoid it by setting the environment variable OMP_NUM_THREADS=3.\n",
      "  warnings.warn(\n"
     ]
    },
    {
     "data": {
      "text/html": [
       "<style>#sk-container-id-9 {color: black;background-color: white;}#sk-container-id-9 pre{padding: 0;}#sk-container-id-9 div.sk-toggleable {background-color: white;}#sk-container-id-9 label.sk-toggleable__label {cursor: pointer;display: block;width: 100%;margin-bottom: 0;padding: 0.3em;box-sizing: border-box;text-align: center;}#sk-container-id-9 label.sk-toggleable__label-arrow:before {content: \"▸\";float: left;margin-right: 0.25em;color: #696969;}#sk-container-id-9 label.sk-toggleable__label-arrow:hover:before {color: black;}#sk-container-id-9 div.sk-estimator:hover label.sk-toggleable__label-arrow:before {color: black;}#sk-container-id-9 div.sk-toggleable__content {max-height: 0;max-width: 0;overflow: hidden;text-align: left;background-color: #f0f8ff;}#sk-container-id-9 div.sk-toggleable__content pre {margin: 0.2em;color: black;border-radius: 0.25em;background-color: #f0f8ff;}#sk-container-id-9 input.sk-toggleable__control:checked~div.sk-toggleable__content {max-height: 200px;max-width: 100%;overflow: auto;}#sk-container-id-9 input.sk-toggleable__control:checked~label.sk-toggleable__label-arrow:before {content: \"▾\";}#sk-container-id-9 div.sk-estimator input.sk-toggleable__control:checked~label.sk-toggleable__label {background-color: #d4ebff;}#sk-container-id-9 div.sk-label input.sk-toggleable__control:checked~label.sk-toggleable__label {background-color: #d4ebff;}#sk-container-id-9 input.sk-hidden--visually {border: 0;clip: rect(1px 1px 1px 1px);clip: rect(1px, 1px, 1px, 1px);height: 1px;margin: -1px;overflow: hidden;padding: 0;position: absolute;width: 1px;}#sk-container-id-9 div.sk-estimator {font-family: monospace;background-color: #f0f8ff;border: 1px dotted black;border-radius: 0.25em;box-sizing: border-box;margin-bottom: 0.5em;}#sk-container-id-9 div.sk-estimator:hover {background-color: #d4ebff;}#sk-container-id-9 div.sk-parallel-item::after {content: \"\";width: 100%;border-bottom: 1px solid gray;flex-grow: 1;}#sk-container-id-9 div.sk-label:hover label.sk-toggleable__label {background-color: #d4ebff;}#sk-container-id-9 div.sk-serial::before {content: \"\";position: absolute;border-left: 1px solid gray;box-sizing: border-box;top: 0;bottom: 0;left: 50%;z-index: 0;}#sk-container-id-9 div.sk-serial {display: flex;flex-direction: column;align-items: center;background-color: white;padding-right: 0.2em;padding-left: 0.2em;position: relative;}#sk-container-id-9 div.sk-item {position: relative;z-index: 1;}#sk-container-id-9 div.sk-parallel {display: flex;align-items: stretch;justify-content: center;background-color: white;position: relative;}#sk-container-id-9 div.sk-item::before, #sk-container-id-9 div.sk-parallel-item::before {content: \"\";position: absolute;border-left: 1px solid gray;box-sizing: border-box;top: 0;bottom: 0;left: 50%;z-index: -1;}#sk-container-id-9 div.sk-parallel-item {display: flex;flex-direction: column;z-index: 1;position: relative;background-color: white;}#sk-container-id-9 div.sk-parallel-item:first-child::after {align-self: flex-end;width: 50%;}#sk-container-id-9 div.sk-parallel-item:last-child::after {align-self: flex-start;width: 50%;}#sk-container-id-9 div.sk-parallel-item:only-child::after {width: 0;}#sk-container-id-9 div.sk-dashed-wrapped {border: 1px dashed gray;margin: 0 0.4em 0.5em 0.4em;box-sizing: border-box;padding-bottom: 0.4em;background-color: white;}#sk-container-id-9 div.sk-label label {font-family: monospace;font-weight: bold;display: inline-block;line-height: 1.2em;}#sk-container-id-9 div.sk-label-container {text-align: center;}#sk-container-id-9 div.sk-container {/* jupyter's `normalize.less` sets `[hidden] { display: none; }` but bootstrap.min.css set `[hidden] { display: none !important; }` so we also need the `!important` here to be able to override the default hidden behavior on the sphinx rendered scikit-learn.org. See: https://github.com/scikit-learn/scikit-learn/issues/21755 */display: inline-block !important;position: relative;}#sk-container-id-9 div.sk-text-repr-fallback {display: none;}</style><div id=\"sk-container-id-9\" class=\"sk-top-container\"><div class=\"sk-text-repr-fallback\"><pre>KMeans(n_clusters=3)</pre><b>In a Jupyter environment, please rerun this cell to show the HTML representation or trust the notebook. <br />On GitHub, the HTML representation is unable to render, please try loading this page with nbviewer.org.</b></div><div class=\"sk-container\" hidden><div class=\"sk-item\"><div class=\"sk-estimator sk-toggleable\"><input class=\"sk-toggleable__control sk-hidden--visually\" id=\"sk-estimator-id-9\" type=\"checkbox\" checked><label for=\"sk-estimator-id-9\" class=\"sk-toggleable__label sk-toggleable__label-arrow\">KMeans</label><div class=\"sk-toggleable__content\"><pre>KMeans(n_clusters=3)</pre></div></div></div></div></div>"
      ],
      "text/plain": [
       "KMeans(n_clusters=3)"
      ]
     },
     "execution_count": 155,
     "metadata": {},
     "output_type": "execute_result"
    }
   ],
   "source": [
    "kmeans = KMeans(n_clusters = 3, max_iter = 300)\n",
    "#df_analyse = df_user_features[['like_ratio','dislike_ratio','watched_ratio']]\n",
    "#kmeans.fit(df_analyse)\n",
    "kmeans.fit(df_user_features)"
   ]
  },
  {
   "cell_type": "code",
   "execution_count": 156,
   "id": "1305d132-34dd-4d79-8c11-2f429186a1c4",
   "metadata": {},
   "outputs": [
    {
     "data": {
      "text/plain": [
       "array([[   2.1265036 ,    5.98815752,   71.96875   ,   22.92013889,\n",
       "          25.22569444,   26.12152778,   39.95486111,  114.22222222],\n",
       "       [   3.72562727,    5.52494416,  507.40740741,   13.14814815,\n",
       "          35.17989418,   58.32275132,   55.66137566,  162.31216931],\n",
       "       [   3.76984316,    5.51063206, 1186.54794521,   20.        ,\n",
       "          73.2739726 ,  127.21917808,  114.35616438,  334.84931507]])"
      ]
     },
     "execution_count": 156,
     "metadata": {},
     "output_type": "execute_result"
    }
   ],
   "source": [
    "kmeans.cluster_centers_"
   ]
  },
  {
   "cell_type": "code",
   "execution_count": 157,
   "id": "7cc57413-a1e5-4b31-8541-84492afb62df",
   "metadata": {},
   "outputs": [
    {
     "name": "stdout",
     "output_type": "stream",
     "text": [
      "[0 0 0 0 0 1 1 0 2 0 0 1 0 1 1 0 1 1 2 1 0 0 1 1 1 1 0 0 2 1 0 0 0 0 1 1 1\n",
      " 0 1 0 1 1 1 1 0 0 0 0 1 0 0 2 0 0 0 0 0 1 0 1 0 2 0 2 1 0 1 0 0 0 0 0 0 2\n",
      " 0 0 1 0 0 0 0 1 0 0 1 0 0 2 0 0 0 0 2 2 2 1 1 1 1 0 1 0 1 0 0 1 1 0 0 1 0\n",
      " 2 1 0 0 0 1 0 1 0 0 1 0 1 1 0 0 0 0 0 2 1 0 0 1 1 2 0 2 1 0 1 1 1 2 2 0 0\n",
      " 0 0 1 0 2 1 2 0 0 1 0 1 1 1 0 1 1 1 0 1 1 1 1 1 1 0 1 1 1 1 0 0 0 0 1 0 1\n",
      " 1 0 0 1 0 0 0 1 1 0 1 0 1 0 1 1 0 0 0 1 0 1 0 1 2 0 0 2 1 0 1 0 1 0 0 1 1\n",
      " 1 0 2 0 0 2 1 1 0 1 0 0 1 0 0 0 0 0 2 0 0 1 1 0 0 0 0 1 0 0 1 0 0 0 0 1 1\n",
      " 0 0 0 2 1 0 0 1 0 2 0 0 0 0 1 1 0 2 0 0 1 1 0 1 2 0 2 0 1 1 2 0 2 0 1 1 0\n",
      " 0 0 0 1 0 2 0 0 1 0 1 0 1 1 1 2 1 0 1 0 0 1 0 0 1 0 0 1 2 0 1 2 0 2 1 0 0\n",
      " 1 0 0 1 2 0 1 1 0 0 0 1 0 0 1 0 1 1 0 0 1 1 1 0 0 0 1 0 0 0 2 0 0 2 0 1 0\n",
      " 1 2 2 1 0 0 0 1 0 0 1 0 1 0 2 0 0 1 0 0 0 2 1 1 0 1 1 0 1 1 2 0 0 0 0 0 2\n",
      " 0 0 2 0 1 2 0 0 0 0 2 2 0 1 2 1 2 1 1 1 0 0 0 1 0 0 1 1 2 1 1 2 1 2 0 0 1\n",
      " 0 0 1 0 2 0 0 0 0 1 0 0 0 2 1 1 0 0 1 0 0 0 0 0 1 0 1 2 1 0 2 0 2 2 0 0 2\n",
      " 0 0 1 2 2 1 1 0 1 0 1 0 2 2 1 0 1 0 0 0 0 2 0 0 1 0 1 0 0 2 1 1 2 0 0 1 1\n",
      " 0 0 0 0 2 1 0 0 0 1 2 2 0 0 0 2 1 0 1 0 1 0 1 1 0 0 0 0 0 2 0 0]\n",
      "550\n"
     ]
    }
   ],
   "source": [
    "print(kmeans.labels_)\n",
    "print(len(kmeans.labels_))"
   ]
  },
  {
   "cell_type": "code",
   "execution_count": 161,
   "id": "42798b53-7f13-4c85-8278-f5208ef1beeb",
   "metadata": {},
   "outputs": [
    {
     "name": "stdout",
     "output_type": "stream",
     "text": [
      "<class 'numpy.ndarray'>\n",
      "{0: 288, 1: 189, 2: 73}\n"
     ]
    }
   ],
   "source": [
    "print(type(kmeans.labels_))\n",
    "unique,counts = np.unique(kmeans.labels_, return_counts = True)\n",
    "print(dict(zip(unique,counts)))"
   ]
  },
  {
   "cell_type": "code",
   "execution_count": 163,
   "id": "1ada16ed-54df-4492-b1cb-01aabd7953bb",
   "metadata": {},
   "outputs": [
    {
     "data": {
      "text/plain": [
       "<seaborn.axisgrid.FacetGrid at 0x19a6212d050>"
      ]
     },
     "execution_count": 163,
     "metadata": {},
     "output_type": "execute_result"
    },
    {
     "data": {
      "image/png": "[encoded data removed]",
      "text/plain": [
       "<Figure size 563.5x500 with 1 Axes>"
      ]
     },
     "metadata": {},
     "output_type": "display_data"
    }
   ],
   "source": [
    "df_user_features['cluster'] = kmeans.labels_\n",
    "sns.set_style('whitegrid')\n",
    "sns.lmplot(x='mean_rating', y='total_rating', data=df_user_features,hue='cluster',palette='coolwarm', aspect =1, fit_reg=False)"
   ]
  },
  {
   "cell_type": "code",
   "execution_count": null,
   "id": "a5c5c366-0f0c-401d-a557-80f27a82c35d",
   "metadata": {},
   "outputs": [],
   "source": []
  },
  {
   "cell_type": "code",
   "execution_count": null,
   "id": "d524b45f-9867-488c-879b-6c59142ded5d",
   "metadata": {},
   "outputs": [],
   "source": []
  }
 ],
 "metadata": {
  "kernelspec": {
   "display_name": "Python 3 (ipykernel)",
   "language": "python",
   "name": "python3"
  },
  "language_info": {
   "codemirror_mode": {
    "name": "ipython",
    "version": 3
   },
   "file_extension": ".py",
   "mimetype": "text/x-python",
   "name": "python",
   "nbconvert_exporter": "python",
   "pygments_lexer": "ipython3",
   "version": "3.11.7"
  }
 },
 "nbformat": 4,
 "nbformat_minor": 5
}
