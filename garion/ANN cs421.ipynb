{
 "cells": [
  {
   "cell_type": "code",
   "execution_count": 1,
   "id": "5719bd5e-27c1-446f-891b-de8e338986d3",
   "metadata": {},
   "outputs": [],
   "source": [
    "# Importing Libraries\n",
    "import numpy as np\n",
    "import pandas as pd\n",
    "import sklearn\n",
    "import matplotlib.pyplot as plt\n",
    "import seaborn as sns\n",
    "sns.set()\n",
    "import warnings\n",
    "warnings.simplefilter(action='ignore', category=FutureWarning)"
   ]
  },
  {
   "cell_type": "code",
   "execution_count": 2,
   "id": "15555bad-b70f-46d1-9e3a-20da49bb6eb4",
   "metadata": {},
   "outputs": [],
   "source": [
    "data=np.load(\"fourth_batch_multi_labels.npz\")"
   ]
  },
  {
   "cell_type": "code",
   "execution_count": 3,
   "id": "5661decd-0243-45eb-9001-2ce3db64dfa1",
   "metadata": {},
   "outputs": [],
   "source": [
    "X=data[\"X\"]\n",
    "y=data[\"yy\"]\n",
    "\n",
    "\n",
    "\n",
    "XX=pd.DataFrame(X)\n",
    "yy=pd.DataFrame(y)\n",
    "XX.rename(columns={0:\"user\",1:\"item\",2:\"rating\"},inplace=True)\n",
    "yy.rename(columns={0:\"user\",1:\"label\"},inplace=True)"
   ]
  },
  {
   "cell_type": "code",
   "execution_count": 4,
   "id": "25e24d24-ab02-4833-98b4-a12b7696adec",
   "metadata": {},
   "outputs": [
    {
     "data": {
      "text/html": [
       "<div>\n",
       "<style scoped>\n",
       "    .dataframe tbody tr th:only-of-type {\n",
       "        vertical-align: middle;\n",
       "    }\n",
       "\n",
       "    .dataframe tbody tr th {\n",
       "        vertical-align: top;\n",
       "    }\n",
       "\n",
       "    .dataframe thead th {\n",
       "        text-align: right;\n",
       "    }\n",
       "</style>\n",
       "<table border=\"1\" class=\"dataframe\">\n",
       "  <thead>\n",
       "    <tr style=\"text-align: right;\">\n",
       "      <th></th>\n",
       "      <th>user</th>\n",
       "      <th>item</th>\n",
       "      <th>rating</th>\n",
       "    </tr>\n",
       "  </thead>\n",
       "  <tbody>\n",
       "    <tr>\n",
       "      <th>0</th>\n",
       "      <td>3531</td>\n",
       "      <td>0</td>\n",
       "      <td>1</td>\n",
       "    </tr>\n",
       "    <tr>\n",
       "      <th>1</th>\n",
       "      <td>3531</td>\n",
       "      <td>1</td>\n",
       "      <td>1</td>\n",
       "    </tr>\n",
       "    <tr>\n",
       "      <th>2</th>\n",
       "      <td>3531</td>\n",
       "      <td>6</td>\n",
       "      <td>1</td>\n",
       "    </tr>\n",
       "    <tr>\n",
       "      <th>3</th>\n",
       "      <td>3531</td>\n",
       "      <td>7</td>\n",
       "      <td>10</td>\n",
       "    </tr>\n",
       "    <tr>\n",
       "      <th>4</th>\n",
       "      <td>3531</td>\n",
       "      <td>9</td>\n",
       "      <td>10</td>\n",
       "    </tr>\n",
       "  </tbody>\n",
       "</table>\n",
       "</div>"
      ],
      "text/plain": [
       "   user  item  rating\n",
       "0  3531     0       1\n",
       "1  3531     1       1\n",
       "2  3531     6       1\n",
       "3  3531     7      10\n",
       "4  3531     9      10"
      ]
     },
     "execution_count": 4,
     "metadata": {},
     "output_type": "execute_result"
    }
   ],
   "source": [
    "XX.head()"
   ]
  },
  {
   "cell_type": "code",
   "execution_count": 5,
   "id": "8f3a6218-9289-4e77-b715-19de750372f5",
   "metadata": {},
   "outputs": [
    {
     "data": {
      "text/html": [
       "<div>\n",
       "<style scoped>\n",
       "    .dataframe tbody tr th:only-of-type {\n",
       "        vertical-align: middle;\n",
       "    }\n",
       "\n",
       "    .dataframe tbody tr th {\n",
       "        vertical-align: top;\n",
       "    }\n",
       "\n",
       "    .dataframe thead th {\n",
       "        text-align: right;\n",
       "    }\n",
       "</style>\n",
       "<table border=\"1\" class=\"dataframe\">\n",
       "  <thead>\n",
       "    <tr style=\"text-align: right;\">\n",
       "      <th></th>\n",
       "      <th>user</th>\n",
       "      <th>label</th>\n",
       "    </tr>\n",
       "  </thead>\n",
       "  <tbody>\n",
       "    <tr>\n",
       "      <th>0</th>\n",
       "      <td>3240</td>\n",
       "      <td>0</td>\n",
       "    </tr>\n",
       "    <tr>\n",
       "      <th>1</th>\n",
       "      <td>3241</td>\n",
       "      <td>1</td>\n",
       "    </tr>\n",
       "    <tr>\n",
       "      <th>2</th>\n",
       "      <td>3242</td>\n",
       "      <td>0</td>\n",
       "    </tr>\n",
       "    <tr>\n",
       "      <th>3</th>\n",
       "      <td>3243</td>\n",
       "      <td>2</td>\n",
       "    </tr>\n",
       "    <tr>\n",
       "      <th>4</th>\n",
       "      <td>3244</td>\n",
       "      <td>0</td>\n",
       "    </tr>\n",
       "  </tbody>\n",
       "</table>\n",
       "</div>"
      ],
      "text/plain": [
       "   user  label\n",
       "0  3240      0\n",
       "1  3241      1\n",
       "2  3242      0\n",
       "3  3243      2\n",
       "4  3244      0"
      ]
     },
     "execution_count": 5,
     "metadata": {},
     "output_type": "execute_result"
    }
   ],
   "source": [
    "yy.head()"
   ]
  },
  {
   "cell_type": "code",
   "execution_count": 6,
   "id": "0a3961d5-314a-4d2f-aa5f-1b4d0976beca",
   "metadata": {},
   "outputs": [
    {
     "data": {
      "text/html": [
       "<div>\n",
       "<style scoped>\n",
       "    .dataframe tbody tr th:only-of-type {\n",
       "        vertical-align: middle;\n",
       "    }\n",
       "\n",
       "    .dataframe tbody tr th {\n",
       "        vertical-align: top;\n",
       "    }\n",
       "\n",
       "    .dataframe thead th {\n",
       "        text-align: right;\n",
       "    }\n",
       "</style>\n",
       "<table border=\"1\" class=\"dataframe\">\n",
       "  <thead>\n",
       "    <tr style=\"text-align: right;\">\n",
       "      <th></th>\n",
       "      <th>user</th>\n",
       "      <th>item</th>\n",
       "      <th>rating</th>\n",
       "      <th>label</th>\n",
       "    </tr>\n",
       "  </thead>\n",
       "  <tbody>\n",
       "    <tr>\n",
       "      <th>0</th>\n",
       "      <td>3531</td>\n",
       "      <td>0</td>\n",
       "      <td>1</td>\n",
       "      <td>0</td>\n",
       "    </tr>\n",
       "    <tr>\n",
       "      <th>1</th>\n",
       "      <td>3531</td>\n",
       "      <td>1</td>\n",
       "      <td>1</td>\n",
       "      <td>0</td>\n",
       "    </tr>\n",
       "    <tr>\n",
       "      <th>2</th>\n",
       "      <td>3531</td>\n",
       "      <td>6</td>\n",
       "      <td>1</td>\n",
       "      <td>0</td>\n",
       "    </tr>\n",
       "    <tr>\n",
       "      <th>3</th>\n",
       "      <td>3531</td>\n",
       "      <td>7</td>\n",
       "      <td>10</td>\n",
       "      <td>0</td>\n",
       "    </tr>\n",
       "    <tr>\n",
       "      <th>4</th>\n",
       "      <td>3531</td>\n",
       "      <td>9</td>\n",
       "      <td>10</td>\n",
       "      <td>0</td>\n",
       "    </tr>\n",
       "  </tbody>\n",
       "</table>\n",
       "</div>"
      ],
      "text/plain": [
       "   user  item  rating  label\n",
       "0  3531     0       1      0\n",
       "1  3531     1       1      0\n",
       "2  3531     6       1      0\n",
       "3  3531     7      10      0\n",
       "4  3531     9      10      0"
      ]
     },
     "execution_count": 6,
     "metadata": {},
     "output_type": "execute_result"
    }
   ],
   "source": [
    "merged_df = pd.merge(XX, yy, on='user')\n",
    "merged_df.head()"
   ]
  },
  {
   "cell_type": "code",
   "execution_count": 7,
   "id": "b4791ea1-7c5b-4606-9a5a-0a60ca9e4124",
   "metadata": {},
   "outputs": [],
   "source": [
    "from sklearn.model_selection import GridSearchCV\n",
    "from scipy.stats import skew, kurtosis\n",
    "from sklearn.feature_selection import mutual_info_classif\n",
    "\n",
    "def engineer_features(df_X, top_features=None, df_y=None):\n",
    "    # Basic user features\n",
    "    df_user_features = df_X.groupby('user').agg(\n",
    "        mean_rating=('rating', 'mean'),\n",
    "        median_rating=('rating', 'median'),\n",
    "        std_rating=('rating', 'std'),\n",
    "        #this was the only thing i added, it was based off one of the features i added on my original one that made significant impact\n",
    "        total_rating=('rating','sum'),\n",
    "        \n",
    "        count_dislike=('rating', lambda x: (x == -10).sum()),\n",
    "        count_neutral=('rating', lambda x: (x == 0).sum()),\n",
    "        count_like=('rating', lambda x: (x == 10).sum()),\n",
    "        count_watched=('rating', lambda x: (x == 1).sum()),\n",
    "        total_interactions=('rating', 'count')\n",
    "    )\n",
    "\n",
    "    # Ratio features\n",
    "    df_user_features['like_ratio'] = df_user_features['count_like'] / df_user_features['total_interactions']\n",
    "    df_user_features['dislike_ratio'] = df_user_features['count_dislike'] / df_user_features['total_interactions']\n",
    "    df_user_features['neutral_ratio'] = df_user_features['count_neutral'] / df_user_features['total_interactions']\n",
    "    df_user_features['watched_ratio'] = df_user_features['count_watched'] / df_user_features['total_interactions']\n",
    "    \n",
    "    # Interaction patterns\n",
    "    df_user_features['like_to_dislike_ratio'] = df_user_features['count_like'] / (df_user_features['count_dislike'] + 1)\n",
    "    df_user_features['rating_variance'] = df_X.groupby('user')['rating'].var()\n",
    "    \n",
    "    # Distribution features\n",
    "    df_user_features['rating_skew'] = df_X.groupby('user')['rating'].apply(lambda x: skew(x))\n",
    "    df_user_features['rating_kurtosis'] = df_X.groupby('user')['rating'].apply(lambda x: kurtosis(x))\n",
    "    \n",
    "    # User behavior patterns\n",
    "    df_user_features['rating_range'] = df_X.groupby('user')['rating'].apply(lambda x: x.max() - x.min())\n",
    "    df_user_features['unique_items_ratio'] = df_X.groupby('user')['item'].nunique() / df_user_features['total_interactions']\n",
    "    \n",
    "    # Item popularity metrics\n",
    "    item_popularity = df_X.groupby('item')['rating'].agg(['mean', 'count'])\n",
    "    item_popularity['popularity_score'] = item_popularity['mean'] * np.log1p(item_popularity['count'])\n",
    "    \n",
    "    # Merge item popularity with user interactions\n",
    "    df_X_with_popularity = pd.merge(df_X, item_popularity['popularity_score'], left_on='item', right_index=True)\n",
    "    \n",
    "    # User-item interaction features\n",
    "    df_user_features['mean_item_popularity'] = df_X_with_popularity.groupby('user')['popularity_score'].mean()\n",
    "    df_user_features['std_item_popularity'] = df_X_with_popularity.groupby('user')['popularity_score'].std()\n",
    "\n",
    "        \n",
    "    # If labels are provided, merge with df_y\n",
    "    if df_y is not None:\n",
    "        df_merged = pd.merge(df_user_features.reset_index(), df_y, on='user')\n",
    "\n",
    "        # Feature selection using mutual information\n",
    "        X = df_merged.drop(columns=['user', 'label'])\n",
    "        y = df_merged['label']\n",
    "        mi_scores = mutual_info_classif(X, y)\n",
    "        mi_scores = pd.Series(mi_scores, name=\"MI Scores\", index=X.columns)\n",
    "        mi_scores = mi_scores.sort_values(ascending=False)\n",
    "        \n",
    "        # Select top 15 features\n",
    "        top_features = mi_scores.nlargest(15).index.tolist()\n",
    "\n",
    "        # Return the merged dataframe with selected features, label, and top features\n",
    "        return df_merged[['user'] + top_features + ['label']], top_features\n",
    "\n",
    "    # If no labels (unseen data), just select the top features\n",
    "    else:\n",
    "        # Ensure top_features is provided\n",
    "        if top_features is None:\n",
    "            raise ValueError(\"top_features must be provided for unseen data\")\n",
    "        \n",
    "        # Return the dataframe with only the selected top features\n",
    "        df_merged = df_user_features.reset_index()\n",
    "        return df_merged[['user'] + top_features]\n",
    "\n",
    "# Use the function\n",
    "df_merged, top_features = engineer_features(XX, df_y=yy)"
   ]
  },
  {
   "cell_type": "code",
   "execution_count": 8,
   "id": "a5c5c366-0f0c-401d-a557-80f27a82c35d",
   "metadata": {},
   "outputs": [
    {
     "name": "stdout",
     "output_type": "stream",
     "text": [
      "     rating_variance  std_rating  rating_kurtosis  like_to_dislike_ratio  \\\n",
      "0          40.600830    6.371878        -0.521521               1.023529   \n",
      "1          51.176832    7.153798        -1.091737               0.553191   \n",
      "2          46.306210    6.804867        -0.891638               0.618182   \n",
      "3          53.249594    7.297232        -0.986740               1.647059   \n",
      "4          22.658824    4.760129        -1.901267              15.000000   \n",
      "..               ...         ...              ...                    ...   \n",
      "545        20.269231    4.502136        -1.309731               4.000000   \n",
      "546        41.337477    6.429423        -0.781821               0.388489   \n",
      "547        24.622705    4.962127        -0.956307              31.000000   \n",
      "548        47.045752    6.858991        -0.429193               3.000000   \n",
      "549        51.058290    7.145508        -0.953996               1.450000   \n",
      "\n",
      "     dislike_ratio  total_rating  like_ratio  neutral_ratio  mean_rating  \\\n",
      "0         0.198113           184    0.205189       0.233491     0.433962   \n",
      "1         0.330935          -158    0.187050       0.179856    -1.136691   \n",
      "2         0.284211          -142    0.178947       0.231579    -0.747368   \n",
      "3         0.202532           147    0.354430       0.101266     1.860759   \n",
      "4         0.000000           161    0.428571       0.257143     4.600000   \n",
      "..             ...           ...         ...            ...          ...   \n",
      "545       0.000000            46    0.307692       0.230769     3.538462   \n",
      "546       0.311512          -691    0.121896       0.230248    -1.559819   \n",
      "547       0.012931          1282    0.534483       0.142241     5.525862   \n",
      "548       0.111111            74    0.500000       0.166667     4.111111   \n",
      "549       0.206522           130    0.315217       0.152174     1.413043   \n",
      "\n",
      "     rating_skew  count_like  count_dislike  mean_item_popularity  \\\n",
      "0      -0.176020          87             84             11.881955   \n",
      "1       0.086003          26             46             13.376518   \n",
      "2      -0.004042          34             54             12.054254   \n",
      "3      -0.387423          28             16              7.564874   \n",
      "4       0.269121          15              0             21.096722   \n",
      "..           ...         ...            ...                   ...   \n",
      "545     0.806065           4              0              3.330163   \n",
      "546     0.028374          54            138              7.761801   \n",
      "547    -0.439046         124              3             11.980462   \n",
      "548    -0.771062           9              2             14.886171   \n",
      "549    -0.300608          29             19             14.441754   \n",
      "\n",
      "     count_watched  count_neutral  \n",
      "0              154             99  \n",
      "1               42             25  \n",
      "2               58             44  \n",
      "3               27              8  \n",
      "4               11              9  \n",
      "..             ...            ...  \n",
      "545              6              3  \n",
      "546            149            102  \n",
      "547             72             33  \n",
      "548              4              3  \n",
      "549             30             14  \n",
      "\n",
      "[550 rows x 15 columns]\n",
      "0      0\n",
      "1      1\n",
      "2      0\n",
      "3      2\n",
      "4      0\n",
      "      ..\n",
      "545    0\n",
      "546    0\n",
      "547    0\n",
      "548    0\n",
      "549    0\n",
      "Name: label, Length: 550, dtype: int64\n"
     ]
    }
   ],
   "source": [
    "X_features = df_merged.drop(columns=['user', 'label'])\n",
    "y_labels = df_merged['label']\n",
    "print(X_features)\n",
    "print(y_labels)"
   ]
  },
  {
   "cell_type": "code",
   "execution_count": 9,
   "id": "d524b45f-9867-488c-879b-6c59142ded5d",
   "metadata": {},
   "outputs": [],
   "source": [
    "from sklearn.model_selection import train_test_split\n",
    "\n",
    "X_train, X_test, y_train, y_test = train_test_split(X_features, y_labels, test_size=0.2)"
   ]
  },
  {
   "cell_type": "code",
   "execution_count": 17,
   "id": "c2f98dc3-e9ff-4cc7-b896-a4ebe52bb9e9",
   "metadata": {},
   "outputs": [
    {
     "name": "stderr",
     "output_type": "stream",
     "text": [
      "C:\\Users\\Garion\\anaconda3\\Lib\\site-packages\\keras\\src\\layers\\core\\dense.py:87: UserWarning: Do not pass an `input_shape`/`input_dim` argument to a layer. When using Sequential models, prefer using an `Input(shape)` object as the first layer in the model instead.\n",
      "  super().__init__(activity_regularizer=activity_regularizer, **kwargs)\n"
     ]
    }
   ],
   "source": [
    "import tensorflow as tf\n",
    "from tensorflow import keras\n",
    "\n",
    "# Sample ANN model\n",
    "model = keras.Sequential([\n",
    "    keras.layers.Dense(64, activation='relu', input_shape=(15,)),\n",
    "    keras.layers.Dense(128, activation='relu'),\n",
    "    keras.layers.Dense(64, activation='relu'),\n",
    "    keras.layers.Dense(3, activation='softmax')  # Assuming 3 classes: normal, anomaly 1, anomaly 2\n",
    "])\n",
    "\n",
    "model.compile(optimizer='adam', loss='sparse_categorical_crossentropy', metrics=['accuracy'])\n"
   ]
  },
  {
   "cell_type": "code",
   "execution_count": 40,
   "id": "7480922e-b45f-458e-a74a-83e38d39dbf2",
   "metadata": {},
   "outputs": [
    {
     "name": "stdout",
     "output_type": "stream",
     "text": [
      "Epoch 1/25\n",
      "\u001b[1m11/11\u001b[0m \u001b[32m━━━━━━━━━━━━━━━━━━━━\u001b[0m\u001b[37m\u001b[0m \u001b[1m0s\u001b[0m 13ms/step - accuracy: 0.9440 - loss: 0.1466 - val_accuracy: 0.8750 - val_loss: 0.6467\n",
      "Epoch 2/25\n",
      "\u001b[1m11/11\u001b[0m \u001b[32m━━━━━━━━━━━━━━━━━━━━\u001b[0m\u001b[37m\u001b[0m \u001b[1m0s\u001b[0m 7ms/step - accuracy: 0.9486 - loss: 0.1483 - val_accuracy: 0.8977 - val_loss: 0.5138\n",
      "Epoch 3/25\n",
      "\u001b[1m11/11\u001b[0m \u001b[32m━━━━━━━━━━━━━━━━━━━━\u001b[0m\u001b[37m\u001b[0m \u001b[1m0s\u001b[0m 6ms/step - accuracy: 0.9576 - loss: 0.1905 - val_accuracy: 0.8750 - val_loss: 0.5734\n",
      "Epoch 4/25\n",
      "\u001b[1m11/11\u001b[0m \u001b[32m━━━━━━━━━━━━━━━━━━━━\u001b[0m\u001b[37m\u001b[0m \u001b[1m0s\u001b[0m 9ms/step - accuracy: 0.9301 - loss: 0.2421 - val_accuracy: 0.8977 - val_loss: 0.6180\n",
      "Epoch 5/25\n",
      "\u001b[1m11/11\u001b[0m \u001b[32m━━━━━━━━━━━━━━━━━━━━\u001b[0m\u001b[37m\u001b[0m \u001b[1m0s\u001b[0m 6ms/step - accuracy: 0.9581 - loss: 0.1222 - val_accuracy: 0.8977 - val_loss: 0.5300\n",
      "Epoch 6/25\n",
      "\u001b[1m11/11\u001b[0m \u001b[32m━━━━━━━━━━━━━━━━━━━━\u001b[0m\u001b[37m\u001b[0m \u001b[1m0s\u001b[0m 7ms/step - accuracy: 0.9540 - loss: 0.1535 - val_accuracy: 0.8750 - val_loss: 0.6035\n",
      "Epoch 7/25\n",
      "\u001b[1m11/11\u001b[0m \u001b[32m━━━━━━━━━━━━━━━━━━━━\u001b[0m\u001b[37m\u001b[0m \u001b[1m0s\u001b[0m 8ms/step - accuracy: 0.9417 - loss: 0.2472 - val_accuracy: 0.8864 - val_loss: 0.6333\n",
      "Epoch 8/25\n",
      "\u001b[1m11/11\u001b[0m \u001b[32m━━━━━━━━━━━━━━━━━━━━\u001b[0m\u001b[37m\u001b[0m \u001b[1m0s\u001b[0m 7ms/step - accuracy: 0.9372 - loss: 0.1863 - val_accuracy: 0.8864 - val_loss: 0.6466\n",
      "Epoch 9/25\n",
      "\u001b[1m11/11\u001b[0m \u001b[32m━━━━━━━━━━━━━━━━━━━━\u001b[0m\u001b[37m\u001b[0m \u001b[1m0s\u001b[0m 7ms/step - accuracy: 0.9519 - loss: 0.1883 - val_accuracy: 0.8864 - val_loss: 0.5507\n",
      "Epoch 10/25\n",
      "\u001b[1m11/11\u001b[0m \u001b[32m━━━━━━━━━━━━━━━━━━━━\u001b[0m\u001b[37m\u001b[0m \u001b[1m0s\u001b[0m 6ms/step - accuracy: 0.9623 - loss: 0.1146 - val_accuracy: 0.8977 - val_loss: 0.6008\n",
      "Epoch 11/25\n",
      "\u001b[1m11/11\u001b[0m \u001b[32m━━━━━━━━━━━━━━━━━━━━\u001b[0m\u001b[37m\u001b[0m \u001b[1m0s\u001b[0m 6ms/step - accuracy: 0.9623 - loss: 0.1301 - val_accuracy: 0.8864 - val_loss: 0.6607\n",
      "Epoch 12/25\n",
      "\u001b[1m11/11\u001b[0m \u001b[32m━━━━━━━━━━━━━━━━━━━━\u001b[0m\u001b[37m\u001b[0m \u001b[1m0s\u001b[0m 7ms/step - accuracy: 0.9678 - loss: 0.1103 - val_accuracy: 0.8977 - val_loss: 0.5543\n",
      "Epoch 13/25\n",
      "\u001b[1m11/11\u001b[0m \u001b[32m━━━━━━━━━━━━━━━━━━━━\u001b[0m\u001b[37m\u001b[0m \u001b[1m0s\u001b[0m 8ms/step - accuracy: 0.9485 - loss: 0.1586 - val_accuracy: 0.8864 - val_loss: 0.6120\n",
      "Epoch 14/25\n",
      "\u001b[1m11/11\u001b[0m \u001b[32m━━━━━━━━━━━━━━━━━━━━\u001b[0m\u001b[37m\u001b[0m \u001b[1m0s\u001b[0m 8ms/step - accuracy: 0.9608 - loss: 0.1233 - val_accuracy: 0.8977 - val_loss: 0.4353\n",
      "Epoch 15/25\n",
      "\u001b[1m11/11\u001b[0m \u001b[32m━━━━━━━━━━━━━━━━━━━━\u001b[0m\u001b[37m\u001b[0m \u001b[1m0s\u001b[0m 9ms/step - accuracy: 0.9538 - loss: 0.1590 - val_accuracy: 0.8636 - val_loss: 0.5762\n",
      "Epoch 16/25\n",
      "\u001b[1m11/11\u001b[0m \u001b[32m━━━━━━━━━━━━━━━━━━━━\u001b[0m\u001b[37m\u001b[0m \u001b[1m0s\u001b[0m 9ms/step - accuracy: 0.9444 - loss: 0.1711 - val_accuracy: 0.8977 - val_loss: 0.4834\n",
      "Epoch 17/25\n",
      "\u001b[1m11/11\u001b[0m \u001b[32m━━━━━━━━━━━━━━━━━━━━\u001b[0m\u001b[37m\u001b[0m \u001b[1m0s\u001b[0m 9ms/step - accuracy: 0.9413 - loss: 0.1400 - val_accuracy: 0.8977 - val_loss: 0.5502\n",
      "Epoch 18/25\n",
      "\u001b[1m11/11\u001b[0m \u001b[32m━━━━━━━━━━━━━━━━━━━━\u001b[0m\u001b[37m\u001b[0m \u001b[1m0s\u001b[0m 10ms/step - accuracy: 0.9523 - loss: 0.1914 - val_accuracy: 0.8977 - val_loss: 0.4404\n",
      "Epoch 19/25\n",
      "\u001b[1m11/11\u001b[0m \u001b[32m━━━━━━━━━━━━━━━━━━━━\u001b[0m\u001b[37m\u001b[0m \u001b[1m0s\u001b[0m 11ms/step - accuracy: 0.9534 - loss: 0.1215 - val_accuracy: 0.8977 - val_loss: 0.4758\n",
      "Epoch 20/25\n",
      "\u001b[1m11/11\u001b[0m \u001b[32m━━━━━━━━━━━━━━━━━━━━\u001b[0m\u001b[37m\u001b[0m \u001b[1m0s\u001b[0m 11ms/step - accuracy: 0.9620 - loss: 0.1185 - val_accuracy: 0.8977 - val_loss: 0.4833\n",
      "Epoch 21/25\n",
      "\u001b[1m11/11\u001b[0m \u001b[32m━━━━━━━━━━━━━━━━━━━━\u001b[0m\u001b[37m\u001b[0m \u001b[1m0s\u001b[0m 11ms/step - accuracy: 0.9598 - loss: 0.1278 - val_accuracy: 0.8977 - val_loss: 0.5261\n",
      "Epoch 22/25\n",
      "\u001b[1m11/11\u001b[0m \u001b[32m━━━━━━━━━━━━━━━━━━━━\u001b[0m\u001b[37m\u001b[0m \u001b[1m0s\u001b[0m 10ms/step - accuracy: 0.9572 - loss: 0.1164 - val_accuracy: 0.8977 - val_loss: 0.4657\n",
      "Epoch 23/25\n",
      "\u001b[1m11/11\u001b[0m \u001b[32m━━━━━━━━━━━━━━━━━━━━\u001b[0m\u001b[37m\u001b[0m \u001b[1m0s\u001b[0m 12ms/step - accuracy: 0.9578 - loss: 0.1012 - val_accuracy: 0.8977 - val_loss: 0.4512\n",
      "Epoch 24/25\n",
      "\u001b[1m11/11\u001b[0m \u001b[32m━━━━━━━━━━━━━━━━━━━━\u001b[0m\u001b[37m\u001b[0m \u001b[1m0s\u001b[0m 12ms/step - accuracy: 0.9635 - loss: 0.1180 - val_accuracy: 0.8977 - val_loss: 0.5275\n",
      "Epoch 25/25\n",
      "\u001b[1m11/11\u001b[0m \u001b[32m━━━━━━━━━━━━━━━━━━━━\u001b[0m\u001b[37m\u001b[0m \u001b[1m0s\u001b[0m 11ms/step - accuracy: 0.9707 - loss: 0.0942 - val_accuracy: 0.8636 - val_loss: 0.4762\n"
     ]
    },
    {
     "data": {
      "text/plain": [
       "<keras.src.callbacks.history.History at 0x224a4b08d90>"
      ]
     },
     "execution_count": 40,
     "metadata": {},
     "output_type": "execute_result"
    }
   ],
   "source": [
    "model.fit(X_train, y_train, epochs=25, validation_split=0.2)\n"
   ]
  },
  {
   "cell_type": "code",
   "execution_count": 41,
   "id": "c12015dc-8cd4-4bf9-8b08-ae6034897e94",
   "metadata": {},
   "outputs": [
    {
     "data": {
      "text/html": [
       "<pre style=\"white-space:pre;overflow-x:auto;line-height:normal;font-family:Menlo,'DejaVu Sans Mono',consolas,'Courier New',monospace\"><span style=\"font-weight: bold\">Model: \"sequential_1\"</span>\n",
       "</pre>\n"
      ],
      "text/plain": [
       "\u001b[1mModel: \"sequential_1\"\u001b[0m\n"
      ]
     },
     "metadata": {},
     "output_type": "display_data"
    },
    {
     "data": {
      "text/html": [
       "<pre style=\"white-space:pre;overflow-x:auto;line-height:normal;font-family:Menlo,'DejaVu Sans Mono',consolas,'Courier New',monospace\">┏━━━━━━━━━━━━━━━━━━━━━━━━━━━━━━━━━┳━━━━━━━━━━━━━━━━━━━━━━━━┳━━━━━━━━━━━━━━━┓\n",
       "┃<span style=\"font-weight: bold\"> Layer (type)                    </span>┃<span style=\"font-weight: bold\"> Output Shape           </span>┃<span style=\"font-weight: bold\">       Param # </span>┃\n",
       "┡━━━━━━━━━━━━━━━━━━━━━━━━━━━━━━━━━╇━━━━━━━━━━━━━━━━━━━━━━━━╇━━━━━━━━━━━━━━━┩\n",
       "│ dense_3 (<span style=\"color: #0087ff; text-decoration-color: #0087ff\">Dense</span>)                 │ (<span style=\"color: #00d7ff; text-decoration-color: #00d7ff\">None</span>, <span style=\"color: #00af00; text-decoration-color: #00af00\">64</span>)             │         <span style=\"color: #00af00; text-decoration-color: #00af00\">1,024</span> │\n",
       "├─────────────────────────────────┼────────────────────────┼───────────────┤\n",
       "│ dense_4 (<span style=\"color: #0087ff; text-decoration-color: #0087ff\">Dense</span>)                 │ (<span style=\"color: #00d7ff; text-decoration-color: #00d7ff\">None</span>, <span style=\"color: #00af00; text-decoration-color: #00af00\">128</span>)            │         <span style=\"color: #00af00; text-decoration-color: #00af00\">8,320</span> │\n",
       "├─────────────────────────────────┼────────────────────────┼───────────────┤\n",
       "│ dense_5 (<span style=\"color: #0087ff; text-decoration-color: #0087ff\">Dense</span>)                 │ (<span style=\"color: #00d7ff; text-decoration-color: #00d7ff\">None</span>, <span style=\"color: #00af00; text-decoration-color: #00af00\">64</span>)             │         <span style=\"color: #00af00; text-decoration-color: #00af00\">8,256</span> │\n",
       "├─────────────────────────────────┼────────────────────────┼───────────────┤\n",
       "│ dense_6 (<span style=\"color: #0087ff; text-decoration-color: #0087ff\">Dense</span>)                 │ (<span style=\"color: #00d7ff; text-decoration-color: #00d7ff\">None</span>, <span style=\"color: #00af00; text-decoration-color: #00af00\">3</span>)              │           <span style=\"color: #00af00; text-decoration-color: #00af00\">195</span> │\n",
       "└─────────────────────────────────┴────────────────────────┴───────────────┘\n",
       "</pre>\n"
      ],
      "text/plain": [
       "┏━━━━━━━━━━━━━━━━━━━━━━━━━━━━━━━━━┳━━━━━━━━━━━━━━━━━━━━━━━━┳━━━━━━━━━━━━━━━┓\n",
       "┃\u001b[1m \u001b[0m\u001b[1mLayer (type)                   \u001b[0m\u001b[1m \u001b[0m┃\u001b[1m \u001b[0m\u001b[1mOutput Shape          \u001b[0m\u001b[1m \u001b[0m┃\u001b[1m \u001b[0m\u001b[1m      Param #\u001b[0m\u001b[1m \u001b[0m┃\n",
       "┡━━━━━━━━━━━━━━━━━━━━━━━━━━━━━━━━━╇━━━━━━━━━━━━━━━━━━━━━━━━╇━━━━━━━━━━━━━━━┩\n",
       "│ dense_3 (\u001b[38;5;33mDense\u001b[0m)                 │ (\u001b[38;5;45mNone\u001b[0m, \u001b[38;5;34m64\u001b[0m)             │         \u001b[38;5;34m1,024\u001b[0m │\n",
       "├─────────────────────────────────┼────────────────────────┼───────────────┤\n",
       "│ dense_4 (\u001b[38;5;33mDense\u001b[0m)                 │ (\u001b[38;5;45mNone\u001b[0m, \u001b[38;5;34m128\u001b[0m)            │         \u001b[38;5;34m8,320\u001b[0m │\n",
       "├─────────────────────────────────┼────────────────────────┼───────────────┤\n",
       "│ dense_5 (\u001b[38;5;33mDense\u001b[0m)                 │ (\u001b[38;5;45mNone\u001b[0m, \u001b[38;5;34m64\u001b[0m)             │         \u001b[38;5;34m8,256\u001b[0m │\n",
       "├─────────────────────────────────┼────────────────────────┼───────────────┤\n",
       "│ dense_6 (\u001b[38;5;33mDense\u001b[0m)                 │ (\u001b[38;5;45mNone\u001b[0m, \u001b[38;5;34m3\u001b[0m)              │           \u001b[38;5;34m195\u001b[0m │\n",
       "└─────────────────────────────────┴────────────────────────┴───────────────┘\n"
      ]
     },
     "metadata": {},
     "output_type": "display_data"
    },
    {
     "data": {
      "text/html": [
       "<pre style=\"white-space:pre;overflow-x:auto;line-height:normal;font-family:Menlo,'DejaVu Sans Mono',consolas,'Courier New',monospace\"><span style=\"font-weight: bold\"> Total params: </span><span style=\"color: #00af00; text-decoration-color: #00af00\">53,387</span> (208.55 KB)\n",
       "</pre>\n"
      ],
      "text/plain": [
       "\u001b[1m Total params: \u001b[0m\u001b[38;5;34m53,387\u001b[0m (208.55 KB)\n"
      ]
     },
     "metadata": {},
     "output_type": "display_data"
    },
    {
     "data": {
      "text/html": [
       "<pre style=\"white-space:pre;overflow-x:auto;line-height:normal;font-family:Menlo,'DejaVu Sans Mono',consolas,'Courier New',monospace\"><span style=\"font-weight: bold\"> Trainable params: </span><span style=\"color: #00af00; text-decoration-color: #00af00\">17,795</span> (69.51 KB)\n",
       "</pre>\n"
      ],
      "text/plain": [
       "\u001b[1m Trainable params: \u001b[0m\u001b[38;5;34m17,795\u001b[0m (69.51 KB)\n"
      ]
     },
     "metadata": {},
     "output_type": "display_data"
    },
    {
     "data": {
      "text/html": [
       "<pre style=\"white-space:pre;overflow-x:auto;line-height:normal;font-family:Menlo,'DejaVu Sans Mono',consolas,'Courier New',monospace\"><span style=\"font-weight: bold\"> Non-trainable params: </span><span style=\"color: #00af00; text-decoration-color: #00af00\">0</span> (0.00 B)\n",
       "</pre>\n"
      ],
      "text/plain": [
       "\u001b[1m Non-trainable params: \u001b[0m\u001b[38;5;34m0\u001b[0m (0.00 B)\n"
      ]
     },
     "metadata": {},
     "output_type": "display_data"
    },
    {
     "data": {
      "text/html": [
       "<pre style=\"white-space:pre;overflow-x:auto;line-height:normal;font-family:Menlo,'DejaVu Sans Mono',consolas,'Courier New',monospace\"><span style=\"font-weight: bold\"> Optimizer params: </span><span style=\"color: #00af00; text-decoration-color: #00af00\">35,592</span> (139.04 KB)\n",
       "</pre>\n"
      ],
      "text/plain": [
       "\u001b[1m Optimizer params: \u001b[0m\u001b[38;5;34m35,592\u001b[0m (139.04 KB)\n"
      ]
     },
     "metadata": {},
     "output_type": "display_data"
    }
   ],
   "source": [
    "model.summary()"
   ]
  },
  {
   "cell_type": "code",
   "execution_count": 42,
   "id": "8edab1c0-5753-4c2b-87be-4e167f34bdc1",
   "metadata": {},
   "outputs": [
    {
     "name": "stdout",
     "output_type": "stream",
     "text": [
      "\u001b[1m4/4\u001b[0m \u001b[32m━━━━━━━━━━━━━━━━━━━━\u001b[0m\u001b[37m\u001b[0m \u001b[1m0s\u001b[0m 10ms/step\n",
      "Predicted labels: [0 0 0 2 0 0 0 0 0 0 0 0 0 0 0 0 0 0 0 1 0 0 0 0 0 0 0 1 0 2 0 0 0 0 0 0 0\n",
      " 0 0 2 2 0 0 0 0 0 0 0 0 2 0 0 0 0 2 0 0 0 0 0 0 0 2 0 0 0 0 0 2 0 0 0 0 0\n",
      " 0 0 0 0 0 0 0 0 0 0 0 0 0 0 0 0 0 0 0 2 0 0 0 0 0 0 2 0 0 0 0 0 0 2 0 0]\n",
      "True labels: 155    0\n",
      "237    0\n",
      "181    0\n",
      "27     2\n",
      "63     1\n",
      "      ..\n",
      "152    0\n",
      "476    0\n",
      "410    2\n",
      "473    0\n",
      "165    0\n",
      "Name: label, Length: 110, dtype: int64\n"
     ]
    }
   ],
   "source": [
    "# Assuming the model has already been trained\n",
    "\n",
    "# Step 1: Make predictions\n",
    "predictions = model.predict(X_test)\n",
    "\n",
    "# Step 2: Convert probabilities to class labels\n",
    "predicted_labels = np.argmax(predictions, axis=1)\n",
    "\n",
    "# Step 3: Display the predicted labels\n",
    "print(\"Predicted labels:\", predicted_labels)\n",
    "\n",
    "# Optional: Compare with true labels\n",
    "print(\"True labels:\", y_test)\n"
   ]
  },
  {
   "cell_type": "code",
   "execution_count": 43,
   "id": "44543e52-d3ba-46b0-9b4c-cb3da31b3d01",
   "metadata": {},
   "outputs": [
    {
     "name": "stdout",
     "output_type": "stream",
     "text": [
      "Confusion Matrix:\n",
      " [[92  1  2]\n",
      " [ 4  0  0]\n",
      " [ 1  1  9]]\n",
      "Classification Report:\n",
      "               precision    recall  f1-score   support\n",
      "\n",
      "           0       0.95      0.97      0.96        95\n",
      "           1       0.00      0.00      0.00         4\n",
      "           2       0.82      0.82      0.82        11\n",
      "\n",
      "    accuracy                           0.92       110\n",
      "   macro avg       0.59      0.60      0.59       110\n",
      "weighted avg       0.90      0.92      0.91       110\n",
      "\n"
     ]
    }
   ],
   "source": [
    "from sklearn.metrics import confusion_matrix, classification_report\n",
    "\n",
    "# Compute confusion matrix\n",
    "cm = confusion_matrix(y_test, predicted_labels)\n",
    "print(\"Confusion Matrix:\\n\", cm)\n",
    "\n",
    "# Classification report for precision, recall, f1-score\n",
    "report = classification_report(y_test, predicted_labels)\n",
    "print(\"Classification Report:\\n\", report)"
   ]
  },
  {
   "cell_type": "code",
   "execution_count": 44,
   "id": "9ac3529b-096c-4c92-8802-f372aa9416d2",
   "metadata": {},
   "outputs": [
    {
     "name": "stdout",
     "output_type": "stream",
     "text": [
      "\u001b[1m4/4\u001b[0m \u001b[32m━━━━━━━━━━━━━━━━━━━━\u001b[0m\u001b[37m\u001b[0m \u001b[1m0s\u001b[0m 9ms/step \n"
     ]
    },
    {
     "data": {
      "image/png": "[encoded data removed]",
      "text/plain": [
       "<Figure size 800x600 with 1 Axes>"
      ]
     },
     "metadata": {},
     "output_type": "display_data"
    }
   ],
   "source": [
    "import numpy as np\n",
    "import matplotlib.pyplot as plt\n",
    "from sklearn.metrics import roc_curve, auc\n",
    "from sklearn.preprocessing import label_binarize\n",
    "\n",
    "# Assuming your model's predictions and true labels\n",
    "# Get predicted probabilities\n",
    "predicted_probabilities = model.predict(X_test)\n",
    "\n",
    "# Binarize the true labels for multiclass ROC calculation\n",
    "# Assuming y_labels are the true class labels (0, 1, 2)\n",
    "n_classes = 3  # Number of classes\n",
    "y_true = label_binarize(y_test, classes=[0, 1, 2])  # Binarize the labels\n",
    "\n",
    "# Step 1: Calculate ROC for each class\n",
    "fpr = {}\n",
    "tpr = {}\n",
    "roc_auc = {}\n",
    "\n",
    "for i in range(n_classes):\n",
    "    fpr[i], tpr[i], _ = roc_curve(y_true[:, i], predicted_probabilities[:, i])\n",
    "    roc_auc[i] = auc(fpr[i], tpr[i])\n",
    "\n",
    "# Step 2: Plot ROC curves\n",
    "plt.figure(figsize=(8, 6))\n",
    "\n",
    "# Plotting each class's ROC curve\n",
    "for i in range(n_classes):\n",
    "    plt.plot(fpr[i], tpr[i], label='ROC curve for class {0} (area = {1:0.2f})'.format(i, roc_auc[i]))\n",
    "\n",
    "# Plot the random chance line\n",
    "plt.plot([0, 1], [0, 1], color='red', linestyle='--')\n",
    "\n",
    "# Customize the plot\n",
    "plt.xlim([0.0, 1.0])\n",
    "plt.ylim([0.0, 1.05])\n",
    "plt.xlabel('False Positive Rate')\n",
    "plt.ylabel('True Positive Rate')\n",
    "plt.title('Receiver Operating Characteristic (ROC) Curves for Multiclass')\n",
    "plt.legend(loc='lower right')\n",
    "plt.grid()\n",
    "plt.show()\n"
   ]
  }
 ],
 "metadata": {
  "kernelspec": {
   "display_name": "Python 3 (ipykernel)",
   "language": "python",
   "name": "python3"
  },
  "language_info": {
   "codemirror_mode": {
    "name": "ipython",
    "version": 3
   },
   "file_extension": ".py",
   "mimetype": "text/x-python",
   "name": "python",
   "nbconvert_exporter": "python",
   "pygments_lexer": "ipython3",
   "version": "3.11.7"
  }
 },
 "nbformat": 4,
 "nbformat_minor": 5
}
